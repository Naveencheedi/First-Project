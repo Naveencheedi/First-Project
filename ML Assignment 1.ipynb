{
 "cells": [
  {
   "cell_type": "code",
   "execution_count": 6,
   "id": "1cd5d504",
   "metadata": {},
   "outputs": [],
   "source": [
    "import numpy as np\n",
    "import pandas as pd\n",
    "import matplotlib.pyplot as plt\n",
    "import seaborn as sns"
   ]
  },
  {
   "cell_type": "code",
   "execution_count": 7,
   "id": "3ae68bf1",
   "metadata": {},
   "outputs": [],
   "source": [
    "x = np.array([1,2,3,4,5,6,7,8,9,10])\n",
    "y = np.array([100,200,500,600,900,920,940,980,1100,1500])"
   ]
  },
  {
   "cell_type": "code",
   "execution_count": 8,
   "id": "885b9f55",
   "metadata": {},
   "outputs": [
    {
     "data": {
      "text/plain": [
       "29.333333333333258"
      ]
     },
     "execution_count": 8,
     "metadata": {},
     "output_type": "execute_result"
    }
   ],
   "source": [
    "x_mean = np.mean(x)\n",
    "y_mean = np.mean(y)\n",
    "\n",
    "m = len(x)\n",
    "a = 0\n",
    "b = 0\n",
    "for i in range(m):\n",
    "    a += (x[i] - x_mean)*(y[i]- y_mean)\n",
    "    b += (x[i] - x_mean)**2\n",
    "slope = a/b\n",
    "y_intercept = y_mean - slope*x_mean\n",
    "y_intercept"
   ]
  },
  {
   "cell_type": "code",
   "execution_count": 13,
   "id": "77c72c68",
   "metadata": {},
   "outputs": [
    {
     "data": {
      "image/png": "[encoded data removed]",
      "text/plain": [
       "<Figure size 432x288 with 1 Axes>"
      ]
     },
     "metadata": {
      "needs_background": "light"
     },
     "output_type": "display_data"
    }
   ],
   "source": [
    "def plot_regression_line(x,y,d):\n",
    "    plt.scatter(x,y,color = 'm',marker = 'o')\n",
    "    global y_pred\n",
    "    y_pred = d[0]+d[1]*x\n",
    "    plt.plot(x,y_pred,color = 'g')\n",
    "    plt.show()\n",
    "d = (y_intercept,slope)\n",
    "plot_regression_line(x,y,d)"
   ]
  },
  {
   "cell_type": "code",
   "execution_count": 14,
   "id": "0d48bc17",
   "metadata": {},
   "outputs": [
    {
     "data": {
      "text/plain": [
       "0.9280272348680095"
      ]
     },
     "execution_count": 14,
     "metadata": {},
     "output_type": "execute_result"
    }
   ],
   "source": [
    "#Checking the line whether it is a good fit or not.\n",
    "from sklearn.metrics import r2_score\n",
    "r2_score(y,y_pred)"
   ]
  },
  {
   "cell_type": "markdown",
   "id": "3c990b58",
   "metadata": {},
   "source": [
    "'''Since the r2 score is greater than 90% we can consider this \n",
    "line as a line of good fit for our data making this model as reliable.'''"
   ]
  }
 ],
 "metadata": {
  "kernelspec": {
   "display_name": "Python 3",
   "language": "python",
   "name": "python3"
  },
  "language_info": {
   "codemirror_mode": {
    "name": "ipython",
    "version": 3
   },
   "file_extension": ".py",
   "mimetype": "text/x-python",
   "name": "python",
   "nbconvert_exporter": "python",
   "pygments_lexer": "ipython3",
   "version": "3.8.8"
  }
 },
 "nbformat": 4,
 "nbformat_minor": 5
}
